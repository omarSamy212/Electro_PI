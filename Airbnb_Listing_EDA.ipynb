{
  "cells": [
    {
      "cell_type": "markdown",
      "metadata": {
        "id": "view-in-github",
        "colab_type": "text"
      },
      "source": [
        "<a href=\"https://colab.research.google.com/github/omarSamy212/Electro_PI/blob/main/Airbnb_Listing_EDA.ipynb\" target=\"_parent\"><img src=\"https://colab.research.google.com/assets/colab-badge.svg\" alt=\"Open In Colab\"/></a>"
      ]
    },
    {
      "cell_type": "code",
      "execution_count": null,
      "id": "2b7cd8f6",
      "metadata": {
        "id": "2b7cd8f6"
      },
      "outputs": [],
      "source": [
        "import pandas as pd\n",
        "import numpy as np\n",
        "import matplotlib.pyplot as plt\n",
        "import seaborn as sns\n",
        "from scipy import stats"
      ]
    },
    {
      "cell_type": "code",
      "execution_count": null,
      "id": "5ed187eb",
      "metadata": {
        "colab": {
          "base_uri": "https://localhost:8080/",
          "height": 321
        },
        "id": "5ed187eb",
        "outputId": "93630000-e9d6-427d-c060-d3f4cba8202b"
      },
      "outputs": [
        {
          "output_type": "error",
          "ename": "FileNotFoundError",
          "evalue": "ignored",
          "traceback": [
            "\u001b[0;31m---------------------------------------------------------------------------\u001b[0m",
            "\u001b[0;31mFileNotFoundError\u001b[0m                         Traceback (most recent call last)",
            "\u001b[0;32m<ipython-input-2-47b925cf68a2>\u001b[0m in \u001b[0;36m<cell line: 1>\u001b[0;34m()\u001b[0m\n\u001b[0;32m----> 1\u001b[0;31m \u001b[0mdf\u001b[0m \u001b[0;34m=\u001b[0m \u001b[0mpd\u001b[0m\u001b[0;34m.\u001b[0m\u001b[0mread_csv\u001b[0m\u001b[0;34m(\u001b[0m\u001b[0;34m'listings.csv'\u001b[0m\u001b[0;34m)\u001b[0m\u001b[0;34m\u001b[0m\u001b[0;34m\u001b[0m\u001b[0m\n\u001b[0m",
            "\u001b[0;32m/usr/local/lib/python3.10/dist-packages/pandas/util/_decorators.py\u001b[0m in \u001b[0;36mwrapper\u001b[0;34m(*args, **kwargs)\u001b[0m\n\u001b[1;32m    209\u001b[0m                 \u001b[0;32melse\u001b[0m\u001b[0;34m:\u001b[0m\u001b[0;34m\u001b[0m\u001b[0;34m\u001b[0m\u001b[0m\n\u001b[1;32m    210\u001b[0m                     \u001b[0mkwargs\u001b[0m\u001b[0;34m[\u001b[0m\u001b[0mnew_arg_name\u001b[0m\u001b[0;34m]\u001b[0m \u001b[0;34m=\u001b[0m \u001b[0mnew_arg_value\u001b[0m\u001b[0;34m\u001b[0m\u001b[0;34m\u001b[0m\u001b[0m\n\u001b[0;32m--> 211\u001b[0;31m             \u001b[0;32mreturn\u001b[0m \u001b[0mfunc\u001b[0m\u001b[0;34m(\u001b[0m\u001b[0;34m*\u001b[0m\u001b[0margs\u001b[0m\u001b[0;34m,\u001b[0m \u001b[0;34m**\u001b[0m\u001b[0mkwargs\u001b[0m\u001b[0;34m)\u001b[0m\u001b[0;34m\u001b[0m\u001b[0;34m\u001b[0m\u001b[0m\n\u001b[0m\u001b[1;32m    212\u001b[0m \u001b[0;34m\u001b[0m\u001b[0m\n\u001b[1;32m    213\u001b[0m         \u001b[0;32mreturn\u001b[0m \u001b[0mcast\u001b[0m\u001b[0;34m(\u001b[0m\u001b[0mF\u001b[0m\u001b[0;34m,\u001b[0m \u001b[0mwrapper\u001b[0m\u001b[0;34m)\u001b[0m\u001b[0;34m\u001b[0m\u001b[0;34m\u001b[0m\u001b[0m\n",
            "\u001b[0;32m/usr/local/lib/python3.10/dist-packages/pandas/util/_decorators.py\u001b[0m in \u001b[0;36mwrapper\u001b[0;34m(*args, **kwargs)\u001b[0m\n\u001b[1;32m    329\u001b[0m                     \u001b[0mstacklevel\u001b[0m\u001b[0;34m=\u001b[0m\u001b[0mfind_stack_level\u001b[0m\u001b[0;34m(\u001b[0m\u001b[0;34m)\u001b[0m\u001b[0;34m,\u001b[0m\u001b[0;34m\u001b[0m\u001b[0;34m\u001b[0m\u001b[0m\n\u001b[1;32m    330\u001b[0m                 )\n\u001b[0;32m--> 331\u001b[0;31m             \u001b[0;32mreturn\u001b[0m \u001b[0mfunc\u001b[0m\u001b[0;34m(\u001b[0m\u001b[0;34m*\u001b[0m\u001b[0margs\u001b[0m\u001b[0;34m,\u001b[0m \u001b[0;34m**\u001b[0m\u001b[0mkwargs\u001b[0m\u001b[0;34m)\u001b[0m\u001b[0;34m\u001b[0m\u001b[0;34m\u001b[0m\u001b[0m\n\u001b[0m\u001b[1;32m    332\u001b[0m \u001b[0;34m\u001b[0m\u001b[0m\n\u001b[1;32m    333\u001b[0m         \u001b[0;31m# error: \"Callable[[VarArg(Any), KwArg(Any)], Any]\" has no\u001b[0m\u001b[0;34m\u001b[0m\u001b[0;34m\u001b[0m\u001b[0m\n",
            "\u001b[0;32m/usr/local/lib/python3.10/dist-packages/pandas/io/parsers/readers.py\u001b[0m in \u001b[0;36mread_csv\u001b[0;34m(filepath_or_buffer, sep, delimiter, header, names, index_col, usecols, squeeze, prefix, mangle_dupe_cols, dtype, engine, converters, true_values, false_values, skipinitialspace, skiprows, skipfooter, nrows, na_values, keep_default_na, na_filter, verbose, skip_blank_lines, parse_dates, infer_datetime_format, keep_date_col, date_parser, dayfirst, cache_dates, iterator, chunksize, compression, thousands, decimal, lineterminator, quotechar, quoting, doublequote, escapechar, comment, encoding, encoding_errors, dialect, error_bad_lines, warn_bad_lines, on_bad_lines, delim_whitespace, low_memory, memory_map, float_precision, storage_options)\u001b[0m\n\u001b[1;32m    948\u001b[0m     \u001b[0mkwds\u001b[0m\u001b[0;34m.\u001b[0m\u001b[0mupdate\u001b[0m\u001b[0;34m(\u001b[0m\u001b[0mkwds_defaults\u001b[0m\u001b[0;34m)\u001b[0m\u001b[0;34m\u001b[0m\u001b[0;34m\u001b[0m\u001b[0m\n\u001b[1;32m    949\u001b[0m \u001b[0;34m\u001b[0m\u001b[0m\n\u001b[0;32m--> 950\u001b[0;31m     \u001b[0;32mreturn\u001b[0m \u001b[0m_read\u001b[0m\u001b[0;34m(\u001b[0m\u001b[0mfilepath_or_buffer\u001b[0m\u001b[0;34m,\u001b[0m \u001b[0mkwds\u001b[0m\u001b[0;34m)\u001b[0m\u001b[0;34m\u001b[0m\u001b[0;34m\u001b[0m\u001b[0m\n\u001b[0m\u001b[1;32m    951\u001b[0m \u001b[0;34m\u001b[0m\u001b[0m\n\u001b[1;32m    952\u001b[0m \u001b[0;34m\u001b[0m\u001b[0m\n",
            "\u001b[0;32m/usr/local/lib/python3.10/dist-packages/pandas/io/parsers/readers.py\u001b[0m in \u001b[0;36m_read\u001b[0;34m(filepath_or_buffer, kwds)\u001b[0m\n\u001b[1;32m    603\u001b[0m \u001b[0;34m\u001b[0m\u001b[0m\n\u001b[1;32m    604\u001b[0m     \u001b[0;31m# Create the parser.\u001b[0m\u001b[0;34m\u001b[0m\u001b[0;34m\u001b[0m\u001b[0m\n\u001b[0;32m--> 605\u001b[0;31m     \u001b[0mparser\u001b[0m \u001b[0;34m=\u001b[0m \u001b[0mTextFileReader\u001b[0m\u001b[0;34m(\u001b[0m\u001b[0mfilepath_or_buffer\u001b[0m\u001b[0;34m,\u001b[0m \u001b[0;34m**\u001b[0m\u001b[0mkwds\u001b[0m\u001b[0;34m)\u001b[0m\u001b[0;34m\u001b[0m\u001b[0;34m\u001b[0m\u001b[0m\n\u001b[0m\u001b[1;32m    606\u001b[0m \u001b[0;34m\u001b[0m\u001b[0m\n\u001b[1;32m    607\u001b[0m     \u001b[0;32mif\u001b[0m \u001b[0mchunksize\u001b[0m \u001b[0;32mor\u001b[0m \u001b[0miterator\u001b[0m\u001b[0;34m:\u001b[0m\u001b[0;34m\u001b[0m\u001b[0;34m\u001b[0m\u001b[0m\n",
            "\u001b[0;32m/usr/local/lib/python3.10/dist-packages/pandas/io/parsers/readers.py\u001b[0m in \u001b[0;36m__init__\u001b[0;34m(self, f, engine, **kwds)\u001b[0m\n\u001b[1;32m   1440\u001b[0m \u001b[0;34m\u001b[0m\u001b[0m\n\u001b[1;32m   1441\u001b[0m         \u001b[0mself\u001b[0m\u001b[0;34m.\u001b[0m\u001b[0mhandles\u001b[0m\u001b[0;34m:\u001b[0m \u001b[0mIOHandles\u001b[0m \u001b[0;34m|\u001b[0m \u001b[0;32mNone\u001b[0m \u001b[0;34m=\u001b[0m \u001b[0;32mNone\u001b[0m\u001b[0;34m\u001b[0m\u001b[0;34m\u001b[0m\u001b[0m\n\u001b[0;32m-> 1442\u001b[0;31m         \u001b[0mself\u001b[0m\u001b[0;34m.\u001b[0m\u001b[0m_engine\u001b[0m \u001b[0;34m=\u001b[0m \u001b[0mself\u001b[0m\u001b[0;34m.\u001b[0m\u001b[0m_make_engine\u001b[0m\u001b[0;34m(\u001b[0m\u001b[0mf\u001b[0m\u001b[0;34m,\u001b[0m \u001b[0mself\u001b[0m\u001b[0;34m.\u001b[0m\u001b[0mengine\u001b[0m\u001b[0;34m)\u001b[0m\u001b[0;34m\u001b[0m\u001b[0;34m\u001b[0m\u001b[0m\n\u001b[0m\u001b[1;32m   1443\u001b[0m \u001b[0;34m\u001b[0m\u001b[0m\n\u001b[1;32m   1444\u001b[0m     \u001b[0;32mdef\u001b[0m \u001b[0mclose\u001b[0m\u001b[0;34m(\u001b[0m\u001b[0mself\u001b[0m\u001b[0;34m)\u001b[0m \u001b[0;34m->\u001b[0m \u001b[0;32mNone\u001b[0m\u001b[0;34m:\u001b[0m\u001b[0;34m\u001b[0m\u001b[0;34m\u001b[0m\u001b[0m\n",
            "\u001b[0;32m/usr/local/lib/python3.10/dist-packages/pandas/io/parsers/readers.py\u001b[0m in \u001b[0;36m_make_engine\u001b[0;34m(self, f, engine)\u001b[0m\n\u001b[1;32m   1733\u001b[0m                 \u001b[0;32mif\u001b[0m \u001b[0;34m\"b\"\u001b[0m \u001b[0;32mnot\u001b[0m \u001b[0;32min\u001b[0m \u001b[0mmode\u001b[0m\u001b[0;34m:\u001b[0m\u001b[0;34m\u001b[0m\u001b[0;34m\u001b[0m\u001b[0m\n\u001b[1;32m   1734\u001b[0m                     \u001b[0mmode\u001b[0m \u001b[0;34m+=\u001b[0m \u001b[0;34m\"b\"\u001b[0m\u001b[0;34m\u001b[0m\u001b[0;34m\u001b[0m\u001b[0m\n\u001b[0;32m-> 1735\u001b[0;31m             self.handles = get_handle(\n\u001b[0m\u001b[1;32m   1736\u001b[0m                 \u001b[0mf\u001b[0m\u001b[0;34m,\u001b[0m\u001b[0;34m\u001b[0m\u001b[0;34m\u001b[0m\u001b[0m\n\u001b[1;32m   1737\u001b[0m                 \u001b[0mmode\u001b[0m\u001b[0;34m,\u001b[0m\u001b[0;34m\u001b[0m\u001b[0;34m\u001b[0m\u001b[0m\n",
            "\u001b[0;32m/usr/local/lib/python3.10/dist-packages/pandas/io/common.py\u001b[0m in \u001b[0;36mget_handle\u001b[0;34m(path_or_buf, mode, encoding, compression, memory_map, is_text, errors, storage_options)\u001b[0m\n\u001b[1;32m    854\u001b[0m         \u001b[0;32mif\u001b[0m \u001b[0mioargs\u001b[0m\u001b[0;34m.\u001b[0m\u001b[0mencoding\u001b[0m \u001b[0;32mand\u001b[0m \u001b[0;34m\"b\"\u001b[0m \u001b[0;32mnot\u001b[0m \u001b[0;32min\u001b[0m \u001b[0mioargs\u001b[0m\u001b[0;34m.\u001b[0m\u001b[0mmode\u001b[0m\u001b[0;34m:\u001b[0m\u001b[0;34m\u001b[0m\u001b[0;34m\u001b[0m\u001b[0m\n\u001b[1;32m    855\u001b[0m             \u001b[0;31m# Encoding\u001b[0m\u001b[0;34m\u001b[0m\u001b[0;34m\u001b[0m\u001b[0m\n\u001b[0;32m--> 856\u001b[0;31m             handle = open(\n\u001b[0m\u001b[1;32m    857\u001b[0m                 \u001b[0mhandle\u001b[0m\u001b[0;34m,\u001b[0m\u001b[0;34m\u001b[0m\u001b[0;34m\u001b[0m\u001b[0m\n\u001b[1;32m    858\u001b[0m                 \u001b[0mioargs\u001b[0m\u001b[0;34m.\u001b[0m\u001b[0mmode\u001b[0m\u001b[0;34m,\u001b[0m\u001b[0;34m\u001b[0m\u001b[0;34m\u001b[0m\u001b[0m\n",
            "\u001b[0;31mFileNotFoundError\u001b[0m: [Errno 2] No such file or directory: 'listings.csv'"
          ]
        }
      ],
      "source": [
        "df = pd.read_csv('listings.csv')"
      ]
    },
    {
      "cell_type": "code",
      "execution_count": null,
      "id": "290c5eb5",
      "metadata": {
        "id": "290c5eb5"
      },
      "outputs": [],
      "source": [
        "columns_to_keep = [\n",
        "    'id', 'name', 'latitude', 'longitude', 'property_type', 'room_type',\n",
        "    'accommodates', 'bathrooms', 'bedrooms', 'beds', 'amenities', 'price',\n",
        "    'minimum_nights', 'maximum_nights', 'availability_30', 'availability_60',\n",
        "    'availability_90', 'availability_365', 'number_of_reviews',\n",
        "    'review_scores_rating', 'instant_bookable', 'reviews_per_month','neighbourhood_cleansed'\n",
        "]\n",
        "\n",
        "df = df[columns_to_keep]"
      ]
    },
    {
      "cell_type": "code",
      "execution_count": null,
      "id": "ff0f7238",
      "metadata": {
        "id": "ff0f7238"
      },
      "outputs": [],
      "source": [
        "# Set 'id' as the primary key\n",
        "df.set_index('id', inplace=True)\n"
      ]
    },
    {
      "cell_type": "code",
      "execution_count": null,
      "id": "262151c2",
      "metadata": {
        "id": "262151c2"
      },
      "outputs": [],
      "source": [
        "# Handle missing values\n",
        "df['bathrooms'].fillna(0, inplace=True)\n",
        "df['bedrooms'].fillna(0, inplace=True)\n"
      ]
    },
    {
      "cell_type": "code",
      "execution_count": null,
      "id": "098479a8",
      "metadata": {
        "id": "098479a8"
      },
      "outputs": [],
      "source": [
        "mean_rating = df['review_scores_rating'].mean()\n",
        "df['review_scores_rating'].fillna(mean_rating, inplace=True)\n"
      ]
    },
    {
      "cell_type": "code",
      "execution_count": null,
      "id": "12bc6b31",
      "metadata": {
        "id": "12bc6b31"
      },
      "outputs": [],
      "source": [
        "mean_rating_permonth = df['reviews_per_month'].mean()\n",
        "df['reviews_per_month'].fillna(mean_rating, inplace=True)\n"
      ]
    },
    {
      "cell_type": "code",
      "execution_count": null,
      "id": "4a078cf3",
      "metadata": {
        "id": "4a078cf3"
      },
      "outputs": [],
      "source": [
        "df.columns.unique()"
      ]
    },
    {
      "cell_type": "code",
      "execution_count": null,
      "id": "90502650",
      "metadata": {
        "id": "90502650"
      },
      "outputs": [],
      "source": [
        "df['availability_60'].unique()"
      ]
    },
    {
      "cell_type": "code",
      "execution_count": null,
      "id": "04e26b36",
      "metadata": {
        "id": "04e26b36"
      },
      "outputs": [],
      "source": [
        "# Encode 'instant_bookable' column\n",
        "df['instant_bookable'] = df['instant_bookable'].map({'t': 1, 'f': 0})"
      ]
    },
    {
      "cell_type": "code",
      "execution_count": null,
      "id": "79802965",
      "metadata": {
        "id": "79802965"
      },
      "outputs": [],
      "source": [
        "df.head()"
      ]
    },
    {
      "cell_type": "code",
      "execution_count": null,
      "id": "ceadd927",
      "metadata": {
        "id": "ceadd927"
      },
      "outputs": [],
      "source": [
        "df['property_type'].unique()\n"
      ]
    },
    {
      "cell_type": "code",
      "execution_count": null,
      "id": "099efcdb",
      "metadata": {
        "id": "099efcdb"
      },
      "outputs": [],
      "source": [
        "df.head()"
      ]
    },
    {
      "cell_type": "code",
      "execution_count": null,
      "id": "b915bd8f",
      "metadata": {
        "id": "b915bd8f"
      },
      "outputs": [],
      "source": [
        "# Clean the 'price' column and convert it to float\n",
        "df['price'] = df['price'].str.replace('$', '').str.replace(',', '').astype(float)"
      ]
    },
    {
      "cell_type": "code",
      "execution_count": null,
      "id": "40076c08",
      "metadata": {
        "id": "40076c08"
      },
      "outputs": [],
      "source": [
        "#Feature Selection\n",
        "\n",
        "selected_features = [\n",
        "    'price',\n",
        "    'availability_30',\n",
        "    'availability_60',\n",
        "    'availability_90',\n",
        "    'availability_365',\n",
        "    'neighbourhood_cleansed',\n",
        "    'property_type',\n",
        "    'room_type',\n",
        "    'accommodates',\n",
        "    'bedrooms',\n",
        "    'bathrooms',\n",
        "    'beds',\n",
        "    'number_of_reviews',\n",
        "    'review_scores_rating',\n",
        "    'instant_bookable'\n",
        "]\n",
        "\n",
        "df = df[selected_features]"
      ]
    },
    {
      "cell_type": "code",
      "execution_count": null,
      "id": "e521f7c5",
      "metadata": {
        "scrolled": true,
        "id": "e521f7c5"
      },
      "outputs": [],
      "source": [
        "df.head()"
      ]
    },
    {
      "cell_type": "code",
      "execution_count": null,
      "id": "63aac55f",
      "metadata": {
        "id": "63aac55f"
      },
      "outputs": [],
      "source": [
        " Automated Data Visualization\n",
        "def visualize_data(df, column):\n",
        "    if df[column].dtype == 'object':\n",
        "        plt.figure(figsize=(12, 6))\n",
        "        sns.countplot(data=df, x=column)\n",
        "        plt.title(f'Counts of {column}')\n",
        "        plt.xticks(rotation=45)\n",
        "        plt.show()\n",
        "    else:\n",
        "        plt.figure(figsize=(12, 6))\n",
        "        sns.histplot(data=df, x=column, bins=30, kde=True)\n",
        "        plt.title(f'Distribution of {column}')\n",
        "        plt.xlabel(column)\n",
        "        plt.ylabel('Frequency')\n",
        "        plt.show()\n"
      ]
    },
    {
      "cell_type": "code",
      "execution_count": null,
      "id": "44a8d58e",
      "metadata": {
        "id": "44a8d58e"
      },
      "outputs": [],
      "source": [
        "# Visualize selected columns\n",
        "for column in df.columns:\n",
        "    visualize_data(df, column)"
      ]
    },
    {
      "cell_type": "code",
      "execution_count": null,
      "id": "2359cad1",
      "metadata": {
        "id": "2359cad1"
      },
      "outputs": [],
      "source": [
        "# Correlation Heatmap\n",
        "correlation_matrix = df.corr()\n",
        "plt.figure(figsize=(10, 6))\n",
        "sns.heatmap(correlation_matrix, annot=True, cmap='coolwarm', linewidths=0.5)\n",
        "plt.title('Correlation Heatmap')\n",
        "plt.show()"
      ]
    },
    {
      "cell_type": "code",
      "execution_count": null,
      "id": "05dc1745",
      "metadata": {
        "id": "05dc1745"
      },
      "outputs": [],
      "source": [
        "# Statistical Analysis\n",
        "summary_statistics = df.describe()\n",
        "correlation_coefficients = df.corr()"
      ]
    },
    {
      "cell_type": "code",
      "execution_count": null,
      "id": "2e719403",
      "metadata": {
        "id": "2e719403"
      },
      "outputs": [],
      "source": [
        "# Test price difference between room types\n",
        "room_types = df['room_type'].unique()\n",
        "ttest_results = {}\n",
        "for room_type in room_types:\n",
        "    subset = df[df['room_type'] == room_type]\n",
        "    tstat, pvalue = stats.ttest_ind(subset['price'], df['price'])\n",
        "    ttest_results[room_type] = {'t-statistic': tstat, 'p-value': pvalue}"
      ]
    },
    {
      "cell_type": "code",
      "execution_count": null,
      "id": "bb22205c",
      "metadata": {
        "id": "bb22205c"
      },
      "outputs": [],
      "source": [
        "# Test association between 'room_type' and 'property_type'\n",
        "contingency_table = pd.crosstab(df['room_type'], df['property_type'])\n",
        "chi2, p, _, _ = stats.chi2_contingency(contingency_table)"
      ]
    },
    {
      "cell_type": "code",
      "execution_count": null,
      "id": "64209f21",
      "metadata": {
        "id": "64209f21"
      },
      "outputs": [],
      "source": [
        "# Insights and Benefits\n",
        "\"\"\"\n",
        "Insights:\n",
        "1. The distribution of 'price' is right-skewed, indicating that most listings have lower prices.\n",
        "2. 'Entire home/apt' room type tends to have higher prices compared to other room types.\n",
        "3. There's no strong linear correlation between numeric variables like 'price', 'availability', and 'review_scores_rating'.\n",
        "4. 'Entire home/apt' is the most common room type.\n",
        "5. The statistical tests suggest that there is a significant price difference between different room types.\n",
        "6. The chi-square test shows that 'room_type' and 'property_type' are not independent, indicating an association between them.\n",
        "\n",
        "Benefits:\n",
        "1. Understanding the distribution of 'price' helps users make pricing decisions.\n",
        "2. Visualizing 'room_type' vs. 'price' provides insights into pricing strategies.\n",
        "3. The correlation heatmap helps identify potential relationships between variables.\n",
        "4. Statistical tests validate hypotheses about price differences and associations between categorical variables.\n",
        "5. Insights assist hosts and Airbnb users in making informed decisions.\n",
        "\"\"\""
      ]
    },
    {
      "cell_type": "code",
      "execution_count": null,
      "id": "bbd33ca2",
      "metadata": {
        "id": "bbd33ca2"
      },
      "outputs": [],
      "source": [
        "# Display results\n",
        "for room_type, results in ttest_results.items():\n",
        "    print(f\"{room_type}: t-statistic = {results['t-statistic']}, p-value = {results['p-value']}\")\n",
        "print(f\"Chi-Square Statistic: {chi2}\")\n",
        "print(f\"P-value: {p}\")"
      ]
    }
  ],
  "metadata": {
    "kernelspec": {
      "display_name": "Python 3 (ipykernel)",
      "language": "python",
      "name": "python3"
    },
    "language_info": {
      "codemirror_mode": {
        "name": "ipython",
        "version": 3
      },
      "file_extension": ".py",
      "mimetype": "text/x-python",
      "name": "python",
      "nbconvert_exporter": "python",
      "pygments_lexer": "ipython3",
      "version": "3.11.4"
    },
    "colab": {
      "provenance": [],
      "include_colab_link": true
    }
  },
  "nbformat": 4,
  "nbformat_minor": 5
}