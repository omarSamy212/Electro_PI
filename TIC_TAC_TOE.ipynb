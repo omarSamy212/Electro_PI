{
  "cells": [
    {
      "cell_type": "markdown",
      "metadata": {
        "id": "view-in-github",
        "colab_type": "text"
      },
      "source": [
        "<a href=\"https://colab.research.google.com/github/omarSamy212/Electro_PI/blob/main/TIC_TAC_TOE.ipynb\" target=\"_parent\"><img src=\"https://colab.research.google.com/assets/colab-badge.svg\" alt=\"Open In Colab\"/></a>"
      ]
    },
    {
      "cell_type": "code",
      "execution_count": null,
      "id": "d0d61d42",
      "metadata": {
        "id": "d0d61d42"
      },
      "outputs": [],
      "source": [
        "def print_board(board):\n",
        "    for i in range(3):\n",
        "        print(board[i])\n"
      ]
    },
    {
      "cell_type": "code",
      "execution_count": null,
      "id": "86870de0",
      "metadata": {
        "id": "86870de0"
      },
      "outputs": [],
      "source": [
        "def move(board, row, col, symbol):\n",
        "    if board[row][col] == '':\n",
        "        board[row][col] = symbol\n",
        "        return True\n",
        "    else:\n",
        "        print(\"Cell already occupied. Try again.\")\n",
        "        return False"
      ]
    },
    {
      "cell_type": "code",
      "execution_count": null,
      "id": "4e9c6e78",
      "metadata": {
        "id": "4e9c6e78"
      },
      "outputs": [],
      "source": [
        "def check_row(gameboard, symbol):\n",
        "    for row in gameboard:\n",
        "        if all(cell == symbol for cell in row):\n",
        "            return True\n",
        "    return False"
      ]
    },
    {
      "cell_type": "code",
      "execution_count": null,
      "id": "61f277bf",
      "metadata": {
        "id": "61f277bf"
      },
      "outputs": [],
      "source": [
        "def checkDiagonals(board, symbol):\n",
        "    if all(board[i][i] == symbol for i in range(len(board))):\n",
        "        return True\n",
        "    if all(board[i][len(board) - i - 1] == symbol for i in range(len(board))):\n",
        "        return True\n",
        "    return False"
      ]
    },
    {
      "cell_type": "code",
      "execution_count": null,
      "id": "ce82c077",
      "metadata": {
        "id": "ce82c077"
      },
      "outputs": [],
      "source": [
        "import numpy as np\n",
        "def checkWin(board, symbol):\n",
        "    for newBoard in [board, np.transpose(board)]:\n",
        "        if check_row(newBoard, symbol):\n",
        "            return True\n",
        "    return checkDiagonals(board, symbol)"
      ]
    },
    {
      "cell_type": "code",
      "execution_count": null,
      "id": "ba38a0f4",
      "metadata": {
        "id": "ba38a0f4"
      },
      "outputs": [],
      "source": [
        "def checkTie(board):\n",
        "    for i in range(3):\n",
        "        for j in range(3):\n",
        "            if board[i][j] == '':\n",
        "                return False\n",
        "    return True"
      ]
    },
    {
      "cell_type": "code",
      "execution_count": null,
      "id": "9bf56436",
      "metadata": {
        "id": "9bf56436",
        "outputId": "f9967346-f9f6-43db-f7df-86f5f08848fd"
      },
      "outputs": [
        {
          "name": "stdout",
          "output_type": "stream",
          "text": [
            "Welcome to TIC TAC TOE!\n",
            "Enter player one symbol: x\n",
            "Enter player two symbol: o\n",
            "Player 1 Move (row column): 0 1\n",
            "['', 'x', '']\n",
            "['', '', '']\n",
            "['', '', '']\n",
            "Player 2 Move (row column): 0 2\n",
            "['', 'x', 'o']\n",
            "['', '', '']\n",
            "['', '', '']\n",
            "Player 1 Move (row column): 1 1\n",
            "['', 'x', 'o']\n",
            "['', 'x', '']\n",
            "['', '', '']\n",
            "Player 2 Move (row column): 1 2\n",
            "['', 'x', 'o']\n",
            "['', 'x', 'o']\n",
            "['', '', '']\n",
            "Player 1 Move (row column): 0 0\n",
            "['x', 'x', 'o']\n",
            "['', 'x', 'o']\n",
            "['', '', '']\n",
            "Player 2 Move (row column): 2 0\n",
            "['x', 'x', 'o']\n",
            "['', 'x', 'o']\n",
            "['o', '', '']\n",
            "Player 1 Move (row column): 2 2\n",
            "['x', 'x', 'o']\n",
            "['', 'x', 'o']\n",
            "['o', '', 'x']\n",
            "Player 1 Won!!!\n"
          ]
        }
      ],
      "source": [
        "game_board = []\n",
        "for i in range(3):\n",
        "    game_board.append([])\n",
        "    for j in range(3):\n",
        "        game_board[i].append('')\n",
        "\n",
        "print(\"Welcome to TIC TAC TOE!\")\n",
        "p1 = input(\"Enter player one symbol: \")\n",
        "p2 = input(\"Enter player two symbol: \")\n",
        "\n",
        "while True:\n",
        "    x, y = input(\"Player 1 Move (row column): \").split()\n",
        "    if move(game_board, int(x), int(y), p1):\n",
        "        print_board(game_board)\n",
        "        if checkWin(game_board, p1):\n",
        "            print('Player 1 Won!!!')\n",
        "            break\n",
        "        elif checkTie(game_board):\n",
        "            print(\"Tied!!\")\n",
        "            break\n",
        "\n",
        "    x, y = input(\"Player 2 Move (row column): \").split()\n",
        "    if move(game_board, int(x), int(y), p2):\n",
        "        print_board(game_board)\n",
        "        if checkWin(game_board, p2):\n",
        "            print('Player 2 Won!!!')\n",
        "            break\n",
        "        elif checkTie(game_board):\n",
        "            print(\"Tied!!\")\n",
        "            break"
      ]
    },
    {
      "cell_type": "code",
      "execution_count": null,
      "id": "675655f3",
      "metadata": {
        "id": "675655f3"
      },
      "outputs": [],
      "source": []
    }
  ],
  "metadata": {
    "kernelspec": {
      "display_name": "Python 3 (ipykernel)",
      "language": "python",
      "name": "python3"
    },
    "language_info": {
      "codemirror_mode": {
        "name": "ipython",
        "version": 3
      },
      "file_extension": ".py",
      "mimetype": "text/x-python",
      "name": "python",
      "nbconvert_exporter": "python",
      "pygments_lexer": "ipython3",
      "version": "3.11.4"
    },
    "colab": {
      "provenance": [],
      "include_colab_link": true
    }
  },
  "nbformat": 4,
  "nbformat_minor": 5
}