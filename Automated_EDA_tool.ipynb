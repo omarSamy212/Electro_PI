{
  "cells": [
    {
      "cell_type": "markdown",
      "metadata": {
        "id": "view-in-github",
        "colab_type": "text"
      },
      "source": [
        "<a href=\"https://colab.research.google.com/github/omarSamy212/Electro_PI/blob/main/Automated_EDA_tool.ipynb\" target=\"_parent\"><img src=\"https://colab.research.google.com/assets/colab-badge.svg\" alt=\"Open In Colab\"/></a>"
      ]
    },
    {
      "cell_type": "code",
      "execution_count": null,
      "id": "c4c89108",
      "metadata": {
        "id": "c4c89108"
      },
      "outputs": [],
      "source": [
        "import pandas as pd\n",
        "import numpy as np\n",
        "import matplotlib.pyplot as plt\n",
        "import seaborn as sns\n",
        "import plotly.express as px"
      ]
    },
    {
      "cell_type": "code",
      "execution_count": null,
      "id": "0a5c88e1",
      "metadata": {
        "id": "0a5c88e1"
      },
      "outputs": [],
      "source": [
        "def handle_missing_values(df):\n",
        "    print(\"Removing Rows with missing values...\")\n",
        "    df = df.dropna().reset_index(drop=True)\n",
        "    print('Done...')\n"
      ]
    },
    {
      "cell_type": "code",
      "execution_count": null,
      "id": "b997cd14",
      "metadata": {
        "id": "b997cd14"
      },
      "outputs": [],
      "source": [
        "def map_encoding(df, col):\n",
        "    unique_values = df[col].unique()\n",
        "    encoding_dict = {value: str(index + 1) for index, value in enumerate(unique_values)}\n",
        "    df[col] = df[col].map(encoding_dict)\n"
      ]
    },
    {
      "cell_type": "code",
      "execution_count": null,
      "id": "f8e3f9e3",
      "metadata": {
        "id": "f8e3f9e3"
      },
      "outputs": [],
      "source": [
        "def z_scaling(df, col):\n",
        "    col_mean = df[col].mean()\n",
        "    col_std = df[col].std()\n",
        "    df[col] = (df[col] - col_mean) / col_std"
      ]
    },
    {
      "cell_type": "code",
      "execution_count": null,
      "id": "4c64c768",
      "metadata": {
        "id": "4c64c768"
      },
      "outputs": [],
      "source": [
        "def visualize_columns(df, col):\n",
        "    if df[col].dtype == 'float64' or df[col].dtype == 'int64':\n",
        "        plt.figure(figsize=(8, 6))\n",
        "        sns.histplot(df[col], kde=True)\n",
        "        plt.title(f'{col} Histogram')\n",
        "        plt.xlabel(col)\n",
        "        plt.ylabel('Frequency')\n",
        "        plt.show()\n",
        "    elif df[col].dtype == 'object':\n",
        "        plt.figure(figsize=(8, 6))\n",
        "        sns.countplot(data=df, x=col)\n",
        "        plt.title(f'{col} Countplot')\n",
        "        plt.xticks(rotation=45)\n",
        "        plt.show()"
      ]
    },
    {
      "cell_type": "code",
      "execution_count": null,
      "id": "ba0828ee",
      "metadata": {
        "id": "ba0828ee"
      },
      "outputs": [],
      "source": [
        "def automated_eda(df):\n",
        "    for col in df.columns:\n",
        "        print(f'Analyzing column: {col}')\n",
        "        print('--------------------------------------')\n",
        "\n",
        "        # Handle missing values\n",
        "        if df[col].isnull().any():\n",
        "            handle_missing_values(df)\n",
        "\n",
        "        # Preprocessing based on data type\n",
        "        if df[col].dtype == 'float64' or df[col].dtype == 'int64':\n",
        "            z_scaling(df, col)\n",
        "        elif df[col].dtype == 'object':\n",
        "            map_encoding(df, col)\n",
        "\n",
        "        # Automated visualization\n",
        "        visualize_columns(df, col)\n",
        "        print('--------------------------------------')"
      ]
    },
    {
      "cell_type": "code",
      "source": [
        "path = input('Welcome to the Automated EDA tool\\nEnter a path to the data file: ')\n",
        "df = pd.read_csv(path)\n",
        "\n",
        "automated_eda(df)"
      ],
      "metadata": {
        "id": "w0gNPNaawauY"
      },
      "id": "w0gNPNaawauY",
      "execution_count": null,
      "outputs": []
    }
  ],
  "metadata": {
    "kernelspec": {
      "display_name": "Python 3 (ipykernel)",
      "language": "python",
      "name": "python3"
    },
    "language_info": {
      "codemirror_mode": {
        "name": "ipython",
        "version": 3
      },
      "file_extension": ".py",
      "mimetype": "text/x-python",
      "name": "python",
      "nbconvert_exporter": "python",
      "pygments_lexer": "ipython3",
      "version": "3.11.4"
    },
    "colab": {
      "provenance": [],
      "include_colab_link": true
    }
  },
  "nbformat": 4,
  "nbformat_minor": 5
}